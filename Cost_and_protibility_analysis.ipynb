{
 "cells": [
  {
   "cell_type": "markdown",
   "id": "a18b02a0",
   "metadata": {},
   "source": [
    "**Business Problem**\n",
    "\n",
    "XYZ Delivery company based in Delhi has a problem of low revenue and high cost in the business. The goal is to identify areas where the service can reduce costs, increase revenue, and implement pricing or commission strategies that enhance profitability. "
   ]
  },
  {
   "cell_type": "markdown",
   "id": "feb8f1ab",
   "metadata": {},
   "source": [
    "**Analysis of Cost and Protifablity of company Based in Delhi** \n",
    "\n",
    "\n",
    "\n"
   ]
  },
  {
   "cell_type": "code",
   "execution_count": 31,
   "id": "36105396",
   "metadata": {},
   "outputs": [],
   "source": [
    "import pandas as pd \n",
    "import seaborn as sns\n",
    "import numpy as np\n",
    "import matplotlib.pyplot as plt\n",
    "import warnings\n",
    "warnings.filterwarnings('ignore')"
   ]
  },
  {
   "cell_type": "code",
   "execution_count": 32,
   "id": "49d3e780",
   "metadata": {},
   "outputs": [],
   "source": [
    "# import Dataset\n",
    "\n",
    "food_orders = pd.read_csv('food_orders_new_delhi.csv')"
   ]
  },
  {
   "cell_type": "code",
   "execution_count": 33,
   "id": "6defcb84",
   "metadata": {},
   "outputs": [
    {
     "name": "stdout",
     "output_type": "stream",
     "text": [
      "<class 'pandas.core.frame.DataFrame'>\n",
      "RangeIndex: 1000 entries, 0 to 999\n",
      "Data columns (total 12 columns):\n",
      " #   Column                  Non-Null Count  Dtype \n",
      "---  ------                  --------------  ----- \n",
      " 0   Order ID                1000 non-null   int64 \n",
      " 1   Customer ID             1000 non-null   object\n",
      " 2   Restaurant ID           1000 non-null   object\n",
      " 3   Order Date and Time     1000 non-null   object\n",
      " 4   Delivery Date and Time  1000 non-null   object\n",
      " 5   Order Value             1000 non-null   int64 \n",
      " 6   Delivery Fee            1000 non-null   int64 \n",
      " 7   Payment Method          1000 non-null   object\n",
      " 8   Discounts and Offers    815 non-null    object\n",
      " 9   Commission Fee          1000 non-null   int64 \n",
      " 10  Payment Processing Fee  1000 non-null   int64 \n",
      " 11  Refunds/Chargebacks     1000 non-null   int64 \n",
      "dtypes: int64(6), object(6)\n",
      "memory usage: 93.9+ KB\n"
     ]
    }
   ],
   "source": [
    "#Dataset info\n",
    "food_orders.info()"
   ]
  },
  {
   "cell_type": "markdown",
   "id": "f026ec7e",
   "metadata": {},
   "source": [
    "we found that discount and offers has a missing data of 19.5% percentage we have to fill it with '0' as we have no info\n",
    "\n"
   ]
  },
  {
   "cell_type": "code",
   "execution_count": 34,
   "id": "0c7f77a7",
   "metadata": {},
   "outputs": [
    {
     "data": {
      "text/plain": [
       "0         5% on App\n",
       "1               10%\n",
       "2      15% New User\n",
       "3               NaN\n",
       "4      50 off Promo\n",
       "           ...     \n",
       "995       5% on App\n",
       "996             NaN\n",
       "997             NaN\n",
       "998    15% New User\n",
       "999    15% New User\n",
       "Name: Discounts and Offers, Length: 1000, dtype: object"
      ]
     },
     "execution_count": 34,
     "metadata": {},
     "output_type": "execute_result"
    }
   ],
   "source": [
    "food_orders['Discounts and Offers'].replace(' ','0.0')"
   ]
  },
  {
   "cell_type": "code",
   "execution_count": 35,
   "id": "4f39f2cb",
   "metadata": {},
   "outputs": [
    {
     "data": {
      "text/plain": [
       "np.int64(185)"
      ]
     },
     "execution_count": 35,
     "metadata": {},
     "output_type": "execute_result"
    }
   ],
   "source": [
    "food_orders['Discounts and Offers'].isnull().sum()"
   ]
  },
  {
   "cell_type": "code",
   "execution_count": 36,
   "id": "47825e42",
   "metadata": {},
   "outputs": [],
   "source": [
    "food_orders['Discounts and Offers']=food_orders['Discounts and Offers'].fillna('0.0')"
   ]
  },
  {
   "cell_type": "code",
   "execution_count": 37,
   "id": "68564ed0",
   "metadata": {},
   "outputs": [
    {
     "data": {
      "text/plain": [
       "np.int64(0)"
      ]
     },
     "execution_count": 37,
     "metadata": {},
     "output_type": "execute_result"
    }
   ],
   "source": [
    "food_orders['Discounts and Offers'].isnull().sum()"
   ]
  },
  {
   "cell_type": "markdown",
   "id": "7447f59b",
   "metadata": {},
   "source": [
    "we have fill all the null values in Discounts and Offers with '0' as it cannot be empty"
   ]
  },
  {
   "cell_type": "code",
   "execution_count": 38,
   "id": "05291bdc",
   "metadata": {},
   "outputs": [
    {
     "name": "stdout",
     "output_type": "stream",
     "text": [
      "<class 'pandas.core.frame.DataFrame'>\n",
      "RangeIndex: 1000 entries, 0 to 999\n",
      "Data columns (total 12 columns):\n",
      " #   Column                  Non-Null Count  Dtype \n",
      "---  ------                  --------------  ----- \n",
      " 0   Order ID                1000 non-null   int64 \n",
      " 1   Customer ID             1000 non-null   object\n",
      " 2   Restaurant ID           1000 non-null   object\n",
      " 3   Order Date and Time     1000 non-null   object\n",
      " 4   Delivery Date and Time  1000 non-null   object\n",
      " 5   Order Value             1000 non-null   int64 \n",
      " 6   Delivery Fee            1000 non-null   int64 \n",
      " 7   Payment Method          1000 non-null   object\n",
      " 8   Discounts and Offers    1000 non-null   object\n",
      " 9   Commission Fee          1000 non-null   int64 \n",
      " 10  Payment Processing Fee  1000 non-null   int64 \n",
      " 11  Refunds/Chargebacks     1000 non-null   int64 \n",
      "dtypes: int64(6), object(6)\n",
      "memory usage: 93.9+ KB\n"
     ]
    }
   ],
   "source": [
    "food_orders.info()"
   ]
  },
  {
   "cell_type": "code",
   "execution_count": 39,
   "id": "8bf24e33",
   "metadata": {},
   "outputs": [],
   "source": [
    "#fix date and time in order Date and Time \n",
    "from datetime import datetime\n",
    "\n",
    "\n",
    "food_orders['Order Date and Time']=pd.to_datetime(food_orders['Order Date and Time'])\n",
    "food_orders['Delivery Date and Time']=pd.to_datetime(food_orders['Delivery Date and Time'])\n",
    "\n",
    "\n",
    "\n",
    "\n"
   ]
  },
  {
   "cell_type": "markdown",
   "id": "11a494f9",
   "metadata": {},
   "source": [
    "Now lets fix discounts and offers columns"
   ]
  },
  {
   "cell_type": "code",
   "execution_count": 40,
   "id": "1bf94d80",
   "metadata": {},
   "outputs": [
    {
     "data": {
      "text/plain": [
       "array(['5% on App', '10%', '15% New User', '0.0', '50 off Promo'],\n",
       "      dtype=object)"
      ]
     },
     "execution_count": 40,
     "metadata": {},
     "output_type": "execute_result"
    }
   ],
   "source": [
    "food_orders['Discounts and Offers'].unique()"
   ]
  },
  {
   "cell_type": "code",
   "execution_count": 41,
   "id": "167d0652",
   "metadata": {},
   "outputs": [],
   "source": [
    "#creating function to extract the details\n",
    "\n",
    "def extract_discount(discount_str):\n",
    "    if 'off' in discount_str:\n",
    "        return float(discount_str.split(' ')[0])\n",
    "    elif '%'in discount_str:\n",
    "        return float(discount_str.split('%')[0])\n",
    "    else:\n",
    "        return 0.0\n",
    "    \n",
    "# apply the function to create new Discount Value column\n",
    "\n",
    "food_orders['Discount percentage']=food_orders['Discounts and Offers'].apply(lambda x: extract_discount(x))\n",
    "    \n",
    "\n"
   ]
  },
  {
   "cell_type": "code",
   "execution_count": 42,
   "id": "af5a6e33",
   "metadata": {},
   "outputs": [
    {
     "data": {
      "text/html": [
       "<div>\n",
       "<style scoped>\n",
       "    .dataframe tbody tr th:only-of-type {\n",
       "        vertical-align: middle;\n",
       "    }\n",
       "\n",
       "    .dataframe tbody tr th {\n",
       "        vertical-align: top;\n",
       "    }\n",
       "\n",
       "    .dataframe thead th {\n",
       "        text-align: right;\n",
       "    }\n",
       "</style>\n",
       "<table border=\"1\" class=\"dataframe\">\n",
       "  <thead>\n",
       "    <tr style=\"text-align: right;\">\n",
       "      <th></th>\n",
       "      <th>Order ID</th>\n",
       "      <th>Customer ID</th>\n",
       "      <th>Restaurant ID</th>\n",
       "      <th>Order Date and Time</th>\n",
       "      <th>Delivery Date and Time</th>\n",
       "      <th>Order Value</th>\n",
       "      <th>Delivery Fee</th>\n",
       "      <th>Payment Method</th>\n",
       "      <th>Discounts and Offers</th>\n",
       "      <th>Commission Fee</th>\n",
       "      <th>Payment Processing Fee</th>\n",
       "      <th>Refunds/Chargebacks</th>\n",
       "      <th>Discount percentage</th>\n",
       "    </tr>\n",
       "  </thead>\n",
       "  <tbody>\n",
       "    <tr>\n",
       "      <th>0</th>\n",
       "      <td>1</td>\n",
       "      <td>C8270</td>\n",
       "      <td>R2924</td>\n",
       "      <td>2024-02-01 01:11:52</td>\n",
       "      <td>2024-02-01 02:39:52</td>\n",
       "      <td>1914</td>\n",
       "      <td>0</td>\n",
       "      <td>Credit Card</td>\n",
       "      <td>5% on App</td>\n",
       "      <td>150</td>\n",
       "      <td>47</td>\n",
       "      <td>0</td>\n",
       "      <td>5.0</td>\n",
       "    </tr>\n",
       "    <tr>\n",
       "      <th>1</th>\n",
       "      <td>2</td>\n",
       "      <td>C1860</td>\n",
       "      <td>R2054</td>\n",
       "      <td>2024-02-02 22:11:04</td>\n",
       "      <td>2024-02-02 22:46:04</td>\n",
       "      <td>986</td>\n",
       "      <td>40</td>\n",
       "      <td>Digital Wallet</td>\n",
       "      <td>10%</td>\n",
       "      <td>198</td>\n",
       "      <td>23</td>\n",
       "      <td>0</td>\n",
       "      <td>10.0</td>\n",
       "    </tr>\n",
       "    <tr>\n",
       "      <th>2</th>\n",
       "      <td>3</td>\n",
       "      <td>C6390</td>\n",
       "      <td>R2870</td>\n",
       "      <td>2024-01-31 05:54:35</td>\n",
       "      <td>2024-01-31 06:52:35</td>\n",
       "      <td>937</td>\n",
       "      <td>30</td>\n",
       "      <td>Cash on Delivery</td>\n",
       "      <td>15% New User</td>\n",
       "      <td>195</td>\n",
       "      <td>45</td>\n",
       "      <td>0</td>\n",
       "      <td>15.0</td>\n",
       "    </tr>\n",
       "    <tr>\n",
       "      <th>3</th>\n",
       "      <td>4</td>\n",
       "      <td>C6191</td>\n",
       "      <td>R2642</td>\n",
       "      <td>2024-01-16 22:52:49</td>\n",
       "      <td>2024-01-16 23:38:49</td>\n",
       "      <td>1463</td>\n",
       "      <td>50</td>\n",
       "      <td>Cash on Delivery</td>\n",
       "      <td>0.0</td>\n",
       "      <td>146</td>\n",
       "      <td>27</td>\n",
       "      <td>0</td>\n",
       "      <td>0.0</td>\n",
       "    </tr>\n",
       "    <tr>\n",
       "      <th>4</th>\n",
       "      <td>5</td>\n",
       "      <td>C6734</td>\n",
       "      <td>R2799</td>\n",
       "      <td>2024-01-29 01:19:30</td>\n",
       "      <td>2024-01-29 02:48:30</td>\n",
       "      <td>1992</td>\n",
       "      <td>30</td>\n",
       "      <td>Cash on Delivery</td>\n",
       "      <td>50 off Promo</td>\n",
       "      <td>130</td>\n",
       "      <td>50</td>\n",
       "      <td>0</td>\n",
       "      <td>50.0</td>\n",
       "    </tr>\n",
       "  </tbody>\n",
       "</table>\n",
       "</div>"
      ],
      "text/plain": [
       "   Order ID Customer ID Restaurant ID Order Date and Time  \\\n",
       "0         1       C8270         R2924 2024-02-01 01:11:52   \n",
       "1         2       C1860         R2054 2024-02-02 22:11:04   \n",
       "2         3       C6390         R2870 2024-01-31 05:54:35   \n",
       "3         4       C6191         R2642 2024-01-16 22:52:49   \n",
       "4         5       C6734         R2799 2024-01-29 01:19:30   \n",
       "\n",
       "  Delivery Date and Time  Order Value  Delivery Fee    Payment Method  \\\n",
       "0    2024-02-01 02:39:52         1914             0       Credit Card   \n",
       "1    2024-02-02 22:46:04          986            40    Digital Wallet   \n",
       "2    2024-01-31 06:52:35          937            30  Cash on Delivery   \n",
       "3    2024-01-16 23:38:49         1463            50  Cash on Delivery   \n",
       "4    2024-01-29 02:48:30         1992            30  Cash on Delivery   \n",
       "\n",
       "  Discounts and Offers  Commission Fee  Payment Processing Fee  \\\n",
       "0            5% on App             150                      47   \n",
       "1                  10%             198                      23   \n",
       "2         15% New User             195                      45   \n",
       "3                  0.0             146                      27   \n",
       "4         50 off Promo             130                      50   \n",
       "\n",
       "   Refunds/Chargebacks  Discount percentage  \n",
       "0                    0                  5.0  \n",
       "1                    0                 10.0  \n",
       "2                    0                 15.0  \n",
       "3                    0                  0.0  \n",
       "4                    0                 50.0  "
      ]
     },
     "execution_count": 42,
     "metadata": {},
     "output_type": "execute_result"
    }
   ],
   "source": [
    "food_orders.head()"
   ]
  },
  {
   "cell_type": "code",
   "execution_count": null,
   "id": "22da8567",
   "metadata": {},
   "outputs": [
    {
     "name": "stdout",
     "output_type": "stream",
     "text": [
      "   Order Value Discounts and Offers  Discount percentage  Discount Amount\n",
      "0         1914            5% on App                  5.0            95.70\n",
      "1          986                  10%                 10.0            98.60\n",
      "2          937         15% New User                 15.0           140.55\n",
      "3         1463                  0.0                  0.0             0.00\n",
      "4         1992         50 off Promo                 50.0           996.00 Order ID                           int64\n",
      "Customer ID                       object\n",
      "Restaurant ID                     object\n",
      "Order Date and Time       datetime64[ns]\n",
      "Delivery Date and Time    datetime64[ns]\n",
      "Order Value                        int64\n",
      "Delivery Fee                       int64\n",
      "Payment Method                    object\n",
      "Discounts and Offers              object\n",
      "Commission Fee                     int64\n",
      "Payment Processing Fee             int64\n",
      "Refunds/Chargebacks                int64\n",
      "Discount percentage              float64\n",
      "Discount_Amount                  float64\n",
      "DiscountAmount                   float64\n",
      "Discount Amount                  float64\n",
      "dtype: object\n"
     ]
    }
   ],
   "source": [
    "# for percentage discounts, calculate the discount amount based on the order value\n",
    "food_orders['Discount Amount'] = food_orders.apply(lambda x: (x['Order Value'] * x['Discount percentage'] / 100)\n",
    " if x['Discount percentage'] > 1 \n",
    " else x['Discount percentage'], axis=1)\n",
    "\n",
    "# adjust 'Discount Amount' for fixed discounts directly specified in the 'Discounts and Offers' column\n",
    "food_orders['Discount Amount'] = food_orders.apply(lambda x: x['Discount Amount'] if x['Discount percentage'] <= 1\n",
    "else x['Order Value'] * x['Discount percentage'] / 100, axis=1)\n",
    "\n",
    "print(food_orders[['Order Value', 'Discounts and Offers', 'Discount percentage', 'Discount Amount']].head(), food_orders.dtypes)"
   ]
  },
  {
   "cell_type": "code",
   "execution_count": 56,
   "id": "d210c252",
   "metadata": {},
   "outputs": [
    {
     "data": {
      "text/plain": [
       "array([ 95.7 ,  98.6 , 140.55,   0.  , 996.  ,  43.9 ,  15.15,  26.  ,\n",
       "        83.15,  49.1 ,  43.4 , 270.  ,  94.95, 148.8 ,  75.6 ,  70.7 ,\n",
       "       899.  ,  85.7 ,  82.  ,  46.35,  96.85,  39.45, 181.1 , 150.15,\n",
       "        67.  ,  77.5 ,  23.25,  94.5 ,  55.4 , 101.5 ,   8.8 ,  32.9 ,\n",
       "       138.1 ,  69.35,  21.5 , 130.5 ,  99.2 , 189.1 ,  83.65,  78.7 ,\n",
       "        69.95,  59.7 ,  52.8 , 134.7 , 121.4 ,  57.9 , 336.  ,  55.7 ,\n",
       "       236.1 ,  46.4 ,  47.9 , 179.8 , 225.  , 177.8 , 228.45,  88.  ,\n",
       "       135.3 , 166.65, 279.  ,  91.1 , 508.  , 524.5 ,  60.7 ,  71.35,\n",
       "        60.  ,  34.85,  39.75, 769.  ,  56.1 ,  31.95, 778.  , 163.65,\n",
       "       739.5 ,  90.9 ,  45.9 , 283.65, 203.7 ,  78.25, 307.  , 199.65,\n",
       "        40.4 , 624.  ,  11.85, 219.  ,  95.4 ,  84.8 ,  72.3 , 157.3 ,\n",
       "        51.9 , 178.8 ,  58.55,  46.5 , 143.1 ,  75.  , 261.75, 163.95,\n",
       "       119.1 , 183.2 ,  65.7 , 719.  ,  50.  , 843.  , 842.5 , 940.5 ,\n",
       "        61.8 , 134.5 , 159.1 , 919.  ,  58.05,  43.2 , 506.5 , 127.8 ,\n",
       "       253.5 , 396.5 , 184.5 ,  98.7 ,  28.5 , 119.8 ,  56.4 , 155.85,\n",
       "       884.  , 733.  , 154.8 ,  81.7 , 110.  ,  50.85, 466.  , 178.05,\n",
       "       469.  , 207.45,  29.2 ,  88.9 ,  25.25, 938.5 , 521.  ,   9.6 ,\n",
       "        75.3 , 778.5 , 152.7 , 266.5 , 617.5 ,  71.1 , 118.2 , 116.6 ,\n",
       "        43.95, 141.9 ,  94.65,  13.25,  74.2 , 639.5 ,  28.35, 608.5 ,\n",
       "         5.6 , 536.  , 978.5 ,  45.2 , 522.  , 126.15, 195.7 , 963.5 ,\n",
       "       234.15, 166.1 , 171.  , 487.5 , 290.1 , 636.5 ,  37.95, 113.1 ,\n",
       "       576.  ,  39.5 , 162.75, 922.  , 369.5 , 109.05,  26.9 , 190.05,\n",
       "       520.5 ,  46.45, 280.5 , 107.5 , 175.2 , 158.1 , 525.5 , 104.3 ,\n",
       "        38.1 ,  65.2 , 200.7 ,  18.7 , 206.85, 179.4 , 154.5 ,  13.9 ,\n",
       "       203.55,  28.2 , 281.1 , 201.9 ,  73.  ,  92.4 , 665.  ,  70.6 ,\n",
       "       492.  ,  37.5 ,  23.95, 933.  , 143.2 , 175.4 ,  69.55,  52.2 ,\n",
       "       954.  , 220.95, 102.4 , 296.5 , 164.6 , 610.5 , 597.  , 231.5 ,\n",
       "        66.9 ,  96.25,  86.2 , 187.5 ,  22.35, 413.5 , 150.75,  51.35,\n",
       "       331.5 , 132.3 , 292.  , 120.7 , 289.2 , 176.1 , 193.1 , 102.45,\n",
       "        50.25, 229.5 , 104.5 ,  43.65, 501.5 ,  60.8 ,  96.1 ,  66.7 ,\n",
       "       374.5 , 166.3 , 117.2 , 771.5 ,  36.8 ,  56.8 ,  67.5 , 100.  ,\n",
       "       604.5 ,  81.95, 673.  , 224.85, 797.  , 882.5 ,  19.5 ,  16.5 ,\n",
       "        71.25,   9.75, 656.5 , 276.  ,  29.1 ,  58.5 ,  69.45, 187.65,\n",
       "        33.7 , 147.8 , 784.5 , 219.9 , 118.8 , 137.  ,  41.7 , 806.5 ,\n",
       "       138.6 , 781.  ,  20.5 , 140.  ,  28.3 ,  32.5 ,  87.6 , 121.2 ,\n",
       "        39.35, 314.5 ,  74.7 ,  53.55, 209.1 , 813.  ,  38.9 , 824.  ,\n",
       "       173.25,  73.8 ,   6.95, 379.5 , 134.1 , 927.  , 120.5 , 141.6 ,\n",
       "        92.15,  15.  ,  81.9 , 232.65, 133.4 ,  81.45,  86.  ,  48.9 ,\n",
       "         7.35, 171.15, 505.5 , 234.3 , 965.  , 183.1 ,  42.9 ,  44.4 ,\n",
       "        32.3 ,  58.7 ,  97.6 , 142.2 , 202.8 ,  75.65, 171.2 , 143.5 ,\n",
       "       198.1 ,  86.5 ,  20.45, 125.5 , 837.  ,  59.75,  95.8 , 472.  ,\n",
       "        65.5 ,  87.75,  31.9 ,  22.8 , 787.  , 230.25, 264.9 , 680.  ,\n",
       "        42.85, 418.5 , 409.5 ,  35.35,  56.  ,  26.05,  40.55, 173.  ,\n",
       "        17.1 , 195.3 ,  10.5 , 132.9 , 833.5 ,  86.7 , 243.  , 399.  ,\n",
       "        65.  , 138.9 , 689.  , 196.  ,  91.25,  61.05,  38.6 , 123.6 ,\n",
       "        43.05, 171.9 , 241.5 , 229.35,  73.05, 312.  , 168.  ,  36.9 ,\n",
       "        51.85, 874.5 ,  18.75,  89.85, 408.  , 103.1 ,  58.  , 101.  ,\n",
       "       209.4 , 725.5 ,  20.8 ,  20.7 , 159.7 , 440.  , 676.  , 162.  ,\n",
       "       159.6 , 912.  , 697.5 ,  49.3 , 112.5 ,  50.6 , 211.35, 145.5 ,\n",
       "        16.8 , 928.  , 121.7 , 146.1 ,  44.  , 129.4 , 873.5 ,  84.5 ,\n",
       "        51.75,  79.5 , 363.5 ,  12.1 , 132.4 ,  65.15, 406.5 , 743.5 ,\n",
       "       289.  ,  57.  , 272.25, 102.5 ,  25.8 , 974.  ,  74.8 , 745.  ,\n",
       "       116.7 ,  83.8 , 294.9 , 208.2 , 961.5 ,  95.3 ,  35.85, 136.  ,\n",
       "       536.5 ,  52.6 ,  50.15, 179.  , 695.5 , 144.4 ,  20.6 ,  67.75,\n",
       "       116.5 , 273.75,  23.8 , 357.  , 270.9 , 481.  ,  55.8 , 160.4 ,\n",
       "       302.5 , 124.8 , 197.6 , 153.  ,  84.55,  22.05, 106.95,  59.2 ,\n",
       "        59.8 , 460.5 ,  91.75,  67.8 ,  16.3 , 747.  ,  35.7 ,  95.5 ,\n",
       "       137.4 , 636.  ,  61.9 , 296.1 ,  48.5 , 564.5 , 190.5 ,  42.45,\n",
       "       172.65, 167.3 , 186.3 ,  58.8 , 149.4 , 136.7 , 851.5 ,  92.45,\n",
       "       213.3 , 899.5 ,  23.55,  40.7 ,  84.65, 705.5 , 107.6 ,  61.4 ,\n",
       "       675.5 , 685.  , 161.7 ,  91.  , 654.5 ,  17.55, 280.95, 272.85,\n",
       "        89.5 ,  99.6 ,  91.5 , 965.5 ,  54.6 ,  57.1 ,  46.9 ,  99.9 ,\n",
       "       161.5 , 153.3 ,  23.3 , 101.1 , 855.5 , 141.  ,  74.9 , 112.95,\n",
       "       127.2 ,  63.6 , 450.5 , 851.  , 101.9 , 304.5 , 109.35, 140.5 ,\n",
       "       741.5 , 113.3 , 200.1 , 195.8 ,  25.1 , 169.2 , 197.7 , 140.6 ,\n",
       "        84.45,  55.5 , 192.9 ,  55.9 ,  90.8 ,  83.95, 702.5 , 271.5 ,\n",
       "        39.15,  26.65, 475.5 , 239.1 ,  62.75,  93.  ,  14.1 , 233.5 ,\n",
       "       136.9 , 862.  , 850.5 , 115.35,  75.05,  37.2 , 108.4 , 233.4 ,\n",
       "        36.35, 184.9 ,  81.75,  58.95, 188.8 , 126.6 ,  52.35,  97.7 ,\n",
       "       523.5 , 161.1 , 142.5 , 541.5 , 148.2 ,  98.9 ,  16.9 , 487.  ,\n",
       "       713.  ,  85.5 ,  19.  ,  94.35,  38.  ,  41.9 ,  41.25, 485.5 ,\n",
       "       167.5 ,  68.25,  35.55,  22.2 , 110.8 , 917.5 , 151.  , 100.8 ,\n",
       "        15.6 , 204.  ,  41.  ,  81.3 ,  68.  ,  48.45, 297.6 ,  68.4 ,\n",
       "       127.65, 245.55, 157.2 , 911.5 ,  91.8 ,  64.5 ,  95.1 , 103.5 ,\n",
       "       471.5 , 862.5 ,  40.8 , 495.  ,  52.95, 156.8 , 156.1 ,  70.5 ,\n",
       "       278.7 , 242.7 , 386.5 ,  96.3 ,  84.35,  18.85, 325.5 , 173.6 ,\n",
       "       105.  , 293.4 ,  43.  , 657.  ,  80.65,  50.4 ,  72.9 ,  66.6 ,\n",
       "        38.85,  35.5 , 665.5 ,  53.5 ,  80.1 ,  70.1 , 177.6 , 378.  ,\n",
       "        59.5 ,  34.45, 436.5 , 164.9 ,  78.4 ,  75.4 , 972.5 ,  81.6 ,\n",
       "       287.7 , 187.6 , 257.  , 684.  ,  52.5 , 100.35, 670.  ,   6.25,\n",
       "       290.7 , 564.  , 542.5 , 165.5 ,  80.9 , 426.5 , 226.65, 132.6 ,\n",
       "       205.8 , 312.5 , 158.5 ,  24.15, 761.  ,  17.7 , 161.4 , 425.  ,\n",
       "       551.5 ,  51.8 ,  86.75, 269.7 , 265.5 ,  14.3 , 299.25,  72.  ,\n",
       "       217.5 ,  23.1 ,  44.95, 643.5 , 632.  , 138.75,  62.55, 281.  ,\n",
       "       937.  , 195.9 , 453.5 ,  28.6 ,  83.1 , 131.3 , 264.  ,  99.35,\n",
       "        33.6 , 658.5 , 211.5 , 128.55,  11.75,  89.1 , 190.6 , 135.  ,\n",
       "        80.5 , 252.  ,  53.05, 189.9 , 102.3 , 813.5 ,  48.75,  30.3 ,\n",
       "       165.15,  71.8 , 161.25,  44.85, 237.15, 676.5 , 378.5 , 490.5 ,\n",
       "       132.  ,  33.55, 173.3 ,  13.5 ,  75.25,  13.6 ,  76.2 ,  82.8 ,\n",
       "        44.9 , 263.55,  88.95,  35.95, 112.7 , 182.4 , 509.  ,  15.75,\n",
       "       193.5 , 174.1 , 126.9 , 232.05,  83.4 , 279.6 ,  66.25,  66.75,\n",
       "       169.35, 361.5 ,  23.75, 614.5 , 177.4 , 136.5 , 228.6 , 609.5 ,\n",
       "        75.55,  52.9 ,  78.75,  94.8 , 454.  , 539.  ,  25.75, 212.1 ,\n",
       "       248.55])"
      ]
     },
     "execution_count": 56,
     "metadata": {},
     "output_type": "execute_result"
    }
   ],
   "source": [
    "food_orders['Discount_Amount'].unique()"
   ]
  },
  {
   "cell_type": "markdown",
   "id": "d9d04faa",
   "metadata": {},
   "source": [
    "Now, we have cleaned the dataset we can procced further Analysis"
   ]
  },
  {
   "cell_type": "markdown",
   "id": "7344e9a1",
   "metadata": {},
   "source": [
    "**Cost and Profitability Analysis**"
   ]
  },
  {
   "cell_type": "markdown",
   "id": "00d50f9b",
   "metadata": {},
   "source": [
    "Now we will look in cost and profitablity of the company\n",
    "The only income it has is Commission Fee and the expenses are in form of Delivery fee, Payment processing fee and Discount to customer \n",
    "\n",
    "\n"
   ]
  },
  {
   "cell_type": "code",
   "execution_count": null,
   "id": "8fa84d19",
   "metadata": {
    "vscode": {
     "languageId": "shellscript"
    }
   },
   "outputs": [
    {
     "name": "stdout",
     "output_type": "stream",
     "text": [
      "{'Total Orders': 1000, 'Total Revenue': np.int64(126990), 'Total Costs': np.float64(232709.85), 'Total Profit': np.float64(-105719.85)}\n"
     ]
    }
   ],
   "source": [
    "# calculate total costs and revenue per order\n",
    "food_orders['Total Costs'] = food_orders['Delivery Fee'] + food_orders['Payment Processing Fee'] + food_orders['Discount Amount']\n",
    "food_orders['Revenue'] = food_orders['Commission Fee']\n",
    "food_orders['Profit'] = food_orders['Revenue'] - food_orders['Total Costs']\n",
    "\n",
    "# aggregate data to get overall metrics\n",
    "total_orders = food_orders.shape[0]\n",
    "total_revenue = food_orders['Revenue'].sum()\n",
    "total_costs = food_orders['Total Costs'].sum()\n",
    "total_profit = food_orders['Profit'].sum()\n",
    "\n",
    "overall_metrics = {\n",
    "    \"Total Orders\": total_orders,\n",
    "    \"Total Revenue\": total_revenue,\n",
    "    \"Total Costs\": total_costs,\n",
    "    \"Total Profit\": total_profit }\n",
    "\n",
    "print(overall_metrics)\n",
    "\n",
    "\n",
    "\n"
   ]
  },
  {
   "cell_type": "markdown",
   "id": "b96edfe7",
   "metadata": {},
   "source": [
    "Based on the analysis, here are the overall metrics for the food delivery operations:\n",
    "\n",
    "Total Orders: 1,000\n",
    "Total Revenue (from Commission Fees): 126,990 INR\n",
    "\n",
    "Total Costs: 232,709.85 INR (including delivery fees, payment processing fees, and discounts)\n",
    "\n",
    "Total Profit: -105,719.85 INR\n",
    "\n",
    "The analysis indicates that the total costs associated with the food delivery operations exceed the total revenue generated from commission fees, resulting in a net loss. It suggests that the current commission rates, delivery fees, and discount strategies might not be sustainable for profitability."
   ]
  },
  {
   "cell_type": "markdown",
   "id": "e16feec3",
   "metadata": {},
   "source": [
    "now we will use **visualization** to better understand the chart\n",
    "\n",
    "1.Histogram to see the distribution of profitablity\n",
    "\n",
    "2.piechart to see the the cost distribution breakdown\n",
    "\n",
    "3.bar chart to compare the profit,cost and revenue"
   ]
  },
  {
   "cell_type": "code",
   "execution_count": 70,
   "id": "cd9d0171",
   "metadata": {},
   "outputs": [
    {
     "data": {
      "image/png": "[encoded data removed]",
      "text/plain": [
       "<Figure size 600x400 with 1 Axes>"
      ]
     },
     "metadata": {},
     "output_type": "display_data"
    }
   ],
   "source": [
    "#histogram \n",
    "\n",
    "plt.figure(figsize=(6,4))\n",
    "plt.hist(food_orders['Profit'],bins=50,color='skyblue',edgecolor='black')\n",
    "plt.title(\"Profitability Distribution per order in Delivery\")\n",
    "plt.xlabel(\"Profit\")\n",
    "plt.ylabel(\"Numbers of Orders\")\n",
    "plt.axvline(food_orders['Profit'].mean(),color='red',linestyle= 'dashed')\n",
    "plt.show()"
   ]
  },
  {
   "cell_type": "markdown",
   "id": "df306425",
   "metadata": {},
   "source": [
    "The histogram shows a wide distribution of profit per order, with a noticeable number of orders resulting in a loss (profits below 0). The red dashed line indicates the average profit, which is in the negative territory, highlighting the overall loss-making situation"
   ]
  },
  {
   "cell_type": "code",
   "execution_count": 75,
   "id": "7899bb6e",
   "metadata": {},
   "outputs": [
    {
     "data": {
      "image/png": "[encoded data removed]",
      "text/plain": [
       "<Figure size 600x400 with 1 Axes>"
      ]
     },
     "metadata": {},
     "output_type": "display_data"
    }
   ],
   "source": [
    "#piechart\n",
    "\n",
    "costs_breakdown = food_orders[['Delivery Fee', 'Payment Processing Fee', 'Discount Amount']].sum()\n",
    "plt.figure(figsize=(6, 4))\n",
    "plt.pie(costs_breakdown, labels=costs_breakdown.index, autopct='%1.1f%%', startangle=140, colors=['brown', 'green', 'lightblue'])\n",
    "plt.title('Proportion of Total Costs in Food Delivery')\n",
    "plt.show()"
   ]
  },
  {
   "cell_type": "markdown",
   "id": "cc1b174a",
   "metadata": {},
   "source": [
    "The pie chart illustrates the breakdown of total costs into delivery fees, payment processing fees, and discount amounts. Discounts constitute a significant portion of the costs, suggesting that promotional strategies might be heavily impacting overall profitability."
   ]
  },
  {
   "cell_type": "code",
   "execution_count": 76,
   "id": "d2a80814",
   "metadata": {},
   "outputs": [
    {
     "data": {
      "image/png": "[encoded data removed]",
      "text/plain": [
       "<Figure size 600x400 with 1 Axes>"
      ]
     },
     "metadata": {},
     "output_type": "display_data"
    }
   ],
   "source": [
    "#Bar graph\n",
    "\n",
    "# bar chart for total revenue, costs, and profit\n",
    "totals = ['Total Revenue', 'Total Costs', 'Total Profit']\n",
    "values = [total_revenue, total_costs, total_profit]\n",
    "\n",
    "plt.figure(figsize=(6, 4))\n",
    "plt.bar(totals, values, color=['green', 'red', 'blue'])\n",
    "plt.title('Total Revenue, Costs, and Profit')\n",
    "plt.ylabel('Amount (INR)')\n",
    "plt.show()"
   ]
  },
  {
   "cell_type": "markdown",
   "id": "a5de301b",
   "metadata": {},
   "source": [
    "The bar chart compares total revenue, total costs, and total profit. It visually represents the gap between revenue and costs, clearly showing that the costs surpass the revenue, leading to a total loss."
   ]
  },
  {
   "cell_type": "markdown",
   "id": "7cca2859",
   "metadata": {},
   "source": [
    "**A New Strategy for Profits**\n",
    "\n",
    "\n",
    "From the analysis so far we understood that the discounts on food orders are resulting in huge losses. Now, we need to find a new strategy for profitability. We need to find a sweet spot for offering discounts and charging commissions. To find a sweet spot for commission and discount percentages, we can analyze the characteristics of profitable orders more deeply. Specifically, we need to look for:\n",
    "\n",
    "\n",
    "\n",
    "A new average commission percentage based on profitable orders.\n",
    "\n",
    "A new average discount percentage for profitable orders, that could serve as a guideline for\n",
    " what level of discount still allows for profitability."
   ]
  },
  {
   "cell_type": "code",
   "execution_count": 84,
   "id": "bbe420b0",
   "metadata": {},
   "outputs": [
    {
     "name": "stdout",
     "output_type": "stream",
     "text": [
      "30.508436145149435 5.867469879518072\n"
     ]
    }
   ],
   "source": [
    "# filter the dataset for profitable orders\n",
    "profitable_orders = food_orders[food_orders['Profit'] > 0]\n",
    "\n",
    "# calculate the average commission percentage for profitable orders\n",
    "profitable_orders['Commission Percentage'] = (profitable_orders['Commission Fee'] / profitable_orders['Order Value']) * 100\n",
    "\n",
    "# calculate the average discount percentage for profitable orders\n",
    "profitable_orders['Effective Discount Percentage'] = (profitable_orders['Discount Amount'] / profitable_orders['Order Value']) * 100\n",
    "\n",
    "# calculate the new averages\n",
    "new_avg_commission_percentage = profitable_orders['Commission Percentage'].mean()\n",
    "new_avg_discount_percentage = profitable_orders['Effective Discount Percentage'].mean()\n",
    "\n",
    "print(new_avg_commission_percentage, new_avg_discount_percentage)"
   ]
  },
  {
   "cell_type": "markdown",
   "id": "41b138b0",
   "metadata": {},
   "source": [
    "Based on the analysis of profitable orders, we find a new set of averages that could represent a “sweet spot” for commission and discount percentages:\n",
    "\n",
    "New Average Commission Percentage: 30.51%\n",
    "\n",
    "New Average Discount Percentage: 5.87%"
   ]
  },
  {
   "cell_type": "markdown",
   "id": "e5df105a",
   "metadata": {},
   "source": [
    "**Conclusion**:"
   ]
  },
  {
   "cell_type": "markdown",
   "id": "cf45e56b",
   "metadata": {},
   "source": [
    "The analysis of XYZ Delivery company's operations in Delhi reveals that high discounts are leading to significant financial losses, with total costs exceeding revenue. By examining profitable orders, an average commission percentage of 30.51% and an average discount percentage of 5.87% were identified as a potential \"sweet spot\" for profitability. The dataset was cleaned, with missing discount values filled and date-time formats standardized for accurate analysis. A bar chart visually confirms the gap between revenue, costs, and the resulting loss. Implementing these new commission and discount percentages could help optimize pricing strategies and enhance profitability."
   ]
  },
  {
   "cell_type": "markdown",
   "id": "c201c925",
   "metadata": {},
   "source": []
  }
 ],
 "metadata": {
  "kernelspec": {
   "display_name": "Python 3",
   "language": "python",
   "name": "python3"
  },
  "language_info": {
   "codemirror_mode": {
    "name": "ipython",
    "version": 3
   },
   "file_extension": ".py",
   "mimetype": "text/x-python",
   "name": "python",
   "nbconvert_exporter": "python",
   "pygments_lexer": "ipython3",
   "version": "3.12.0"
  }
 },
 "nbformat": 4,
 "nbformat_minor": 5
}
